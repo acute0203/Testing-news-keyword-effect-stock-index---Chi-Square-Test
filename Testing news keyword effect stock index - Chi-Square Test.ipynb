{
 "cells": [
  {
   "cell_type": "code",
   "execution_count": 1,
   "metadata": {},
   "outputs": [],
   "source": [
    "#toy_data = [(\"date_t-1\", \"result_t-1\":\"[keyword_t-2]\")]\n",
    "toy_data = [(\"1\", \"up\" , [\"看好\",\"榮景\",\"利多\",\"成長\",\"的\"])\n",
    "        ,(\"2\", \"up\" , [\"看好\",\"榮景\",\"的\"])\n",
    "        ,(\"3\", \"up\" , [\"看好\",\"利多\",\"榮景\",\"看空\",\"的\"])\n",
    "        ,(\"4\", \"down\" , [\"利多\",\"看空\",\"衰退\",\"的\"])\n",
    "        ,(\"5\", \"down\" , [\"看空\",\"衰退\",\"的\"])\n",
    "        ,(\"6\", \"un\" , [\"衰退\",\"利多\",\"成長\",\"的\"])\n",
    "        ,(\"7\", \"un\" , [\"未定\",\"利空\",\"不變\",\"的\"])\n",
    "        ,(\"8\", \"un\" , [\"未定\",\"利空\",\"不變\",\"的\"])\n",
    "        ,(\"9\", \"up\" , [\"看好\",\"利多\",\"見底\",\"看空\",\"的\"])\n",
    "        ,(\"10\", \"down\" , [\"不變\",\"衰退\",\"的\"])\n",
    "        ,(\"11\", \"up\" , [\"看好\",\"大漲\",\"見底\",\"看空\",\"的\"])\n",
    "        ,(\"12\", \"down\" , [\"大跌\",\"衰退\",\"的\"])\n",
    "        ,(\"13\", \"up\" , [\"看好\"])\n",
    "        ,(\"14\", \"up\" , [\"看好\"])\n",
    "           ]"
   ]
  },
  {
   "cell_type": "code",
   "execution_count": 2,
   "metadata": {},
   "outputs": [
    {
     "name": "stdout",
     "output_type": "stream",
     "text": [
      "{'up': 0, 'down': 1, 'un': 2}\n",
      "關鍵字列表：{'衰退', '利多', '不變', '大漲', '利空', '見底', '的', '看空', '看好', '未定', '成長', '大跌', '榮景'}\n",
      "\"衰退\" 關鍵字與股價變動有關\n",
      "0.019999719369791027\n",
      "\"看好\" 關鍵字與股價變動有關\n",
      "0.007044165766941701\n"
     ]
    }
   ],
   "source": [
    "import numpy as np\n",
    "from scipy.stats import chi2_contingency\n",
    "\n",
    "#get all stat\n",
    "last_index = 0\n",
    "STAT_INDEX_DICT = {}\n",
    "for data in toy_data:\n",
    "    if data[1] not in STAT_INDEX_DICT:\n",
    "        STAT_INDEX_DICT[data[1]] = last_index\n",
    "        last_index += 1\n",
    "print(STAT_INDEX_DICT)\n",
    "#get all phrase\n",
    "keyword_set = set()\n",
    "for data in toy_data:\n",
    "    for keyword_t_2 in data[2]:\n",
    "        keyword_set.add(keyword_t_2)\n",
    "print(\"關鍵字列表：\" + str(keyword_set))\n",
    "\n",
    "#initialize RC table for each keyword\n",
    "keyword_rc_dict = {}\n",
    "for keyword in keyword_set:\n",
    "    keyword_rc_dict[keyword] = np.ones((2, len(STAT_INDEX_DICT)))#np.array([[1, 1, 1], [1, 1, 1]])\n",
    "\n",
    "#count for each keyword in each RC table\n",
    "for keyword in keyword_set:\n",
    "    for data in toy_data:\n",
    "        result_t = data[1]\n",
    "        EXIST_INDEX = 0 if keyword in data[2] else 1\n",
    "        keyword_rc_dict[keyword][EXIST_INDEX][STAT_INDEX_DICT[result_t]] += 1\n",
    "\n",
    "#run chi-square test for each keyword\n",
    "#H0:variables are independent(無關) , H1:variables are dependent(有關)\n",
    "effect_keyword_list = []\n",
    "for keyword in keyword_rc_dict:\n",
    "    obs = keyword_rc_dict[keyword]\n",
    "    (chi2, p, dof, ex) = chi2_contingency(obs, True)\n",
    "    if p <=0.05:\n",
    "        #reject H0\n",
    "        #have correlation\n",
    "        print(\"\\\"\" + keyword + \"\\\" 關鍵字與股價變動有關\")\n",
    "        print(p)\n",
    "        effect_keyword_list.append(keyword)\n"
   ]
  },
  {
   "cell_type": "code",
   "execution_count": 3,
   "metadata": {},
   "outputs": [],
   "source": [
    "\n",
    "t_1_keyword_candidate_list = [\"看好\", \"榮景\", \"衰退\", \"成長\"]\n",
    "today_keyword_list = list(today_keyword for today_keyword in t_1_keyword_candidate_list if today_keyword in effect_keyword_list)"
   ]
  },
  {
   "cell_type": "code",
   "execution_count": 4,
   "metadata": {},
   "outputs": [
    {
     "name": "stdout",
     "output_type": "stream",
     "text": [
      "今日關鍵詞：看好, 衰退\n"
     ]
    }
   ],
   "source": [
    "import matplotlib.pyplot as plt  \n",
    "from wordcloud import WordCloud  \n",
    "import random\n",
    "\n",
    "def create_word_cloud(text_to_cloud):\n",
    "    wc = WordCloud(background_color = \"black\", \n",
    "                   max_words = 2000,\n",
    "                   font_path = \"PingFang.ttc\",  \n",
    "                   max_font_size = 50,\n",
    "                   random_state = 30,\n",
    "        )  \n",
    "    my_word_cloud = wc.generate(text_to_cloud)\n",
    "\n",
    "    plt.imshow(my_word_cloud)  \n",
    "    plt.axis(\"off\")  \n",
    "    plt.show()  \n",
    "\n",
    "word_count_list = []\n",
    "if len(today_keyword_list) >= 10:\n",
    "    for today_keyword in today_keyword_list:\n",
    "        for _ in range(random.randint(10,20)):\n",
    "            word_count_list.append(today_keyword)\n",
    "    word_count_str = \" \".join(word_count_list)\n",
    "    create_word_cloud(word_count_str)\n",
    "else:\n",
    "    print(\"今日關鍵詞：\" + \", \".join(today_keyword_list))"
   ]
  },
  {
   "cell_type": "code",
   "execution_count": null,
   "metadata": {},
   "outputs": [],
   "source": []
  }
 ],
 "metadata": {
  "kernelspec": {
   "display_name": "Python 3",
   "language": "python",
   "name": "python3"
  },
  "language_info": {
   "codemirror_mode": {
    "name": "ipython",
    "version": 3
   },
   "file_extension": ".py",
   "mimetype": "text/x-python",
   "name": "python",
   "nbconvert_exporter": "python",
   "pygments_lexer": "ipython3",
   "version": "3.6.5"
  }
 },
 "nbformat": 4,
 "nbformat_minor": 2
}
